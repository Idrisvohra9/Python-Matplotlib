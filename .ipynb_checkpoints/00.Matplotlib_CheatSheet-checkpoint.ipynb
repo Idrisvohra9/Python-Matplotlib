{
 "cells": [
  {
   "cell_type": "markdown",
   "id": "a1f65baf",
   "metadata": {},
   "source": [
    "# Basic Plotting:"
   ]
  },
  {
   "cell_type": "code",
   "execution_count": 1,
   "id": "1823ab1a",
   "metadata": {},
   "outputs": [
    {
     "ename": "NameError",
     "evalue": "name 'x_values' is not defined",
     "output_type": "error",
     "traceback": [
      "\u001b[1;31m---------------------------------------------------------------------------\u001b[0m",
      "\u001b[1;31mNameError\u001b[0m                                 Traceback (most recent call last)",
      "\u001b[1;32m~\\AppData\\Local\\Temp\\ipykernel_18608\\1002578987.py\u001b[0m in \u001b[0;36m<module>\u001b[1;34m\u001b[0m\n\u001b[0;32m      2\u001b[0m \u001b[1;33m\u001b[0m\u001b[0m\n\u001b[0;32m      3\u001b[0m \u001b[1;31m# Create a line plot\u001b[0m\u001b[1;33m\u001b[0m\u001b[1;33m\u001b[0m\u001b[0m\n\u001b[1;32m----> 4\u001b[1;33m \u001b[0mplt\u001b[0m\u001b[1;33m.\u001b[0m\u001b[0mplot\u001b[0m\u001b[1;33m(\u001b[0m\u001b[0mx_values\u001b[0m\u001b[1;33m,\u001b[0m \u001b[0my_values\u001b[0m\u001b[1;33m)\u001b[0m\u001b[1;33m\u001b[0m\u001b[1;33m\u001b[0m\u001b[0m\n\u001b[0m\u001b[0;32m      5\u001b[0m \u001b[1;33m\u001b[0m\u001b[0m\n\u001b[0;32m      6\u001b[0m \u001b[1;31m# Create a scatter plot\u001b[0m\u001b[1;33m\u001b[0m\u001b[1;33m\u001b[0m\u001b[0m\n",
      "\u001b[1;31mNameError\u001b[0m: name 'x_values' is not defined"
     ]
    }
   ],
   "source": [
    "import matplotlib.pyplot as plt\n",
    "\n",
    "# Create a line plot\n",
    "plt.plot(x_values, y_values)\n",
    "\n",
    "# Create a scatter plot\n",
    "plt.scatter(x_values, y_values)\n",
    "\n",
    "# Create a bar plot\n",
    "plt.bar(x_values, y_values)\n",
    "\n",
    "# Create a histogram\n",
    "plt.hist(data, bins=10)\n"
   ]
  },
  {
   "cell_type": "markdown",
   "id": "6bcf559f",
   "metadata": {},
   "source": [
    "# Customization:"
   ]
  },
  {
   "cell_type": "code",
   "execution_count": null,
   "id": "1c0ddbd1",
   "metadata": {},
   "outputs": [],
   "source": [
    "# Set title and axis labels\n",
    "plt.title('Title')\n",
    "plt.xlabel('X-axis label')\n",
    "plt.ylabel('Y-axis label')\n",
    "\n",
    "# Set limits for x and y axes\n",
    "plt.xlim([0, 10])\n",
    "plt.ylim([-2, 2])\n",
    "\n",
    "# Add legend\n",
    "plt.legend(['Line 1', 'Line 2'])\n",
    "\n",
    "# Add annotations\n",
    "plt.text(x, y, 'Text')\n",
    "plt.annotate('Annotation', xy=(x, y), xytext=(x_text, y_text),\n",
    "             arrowprops=dict(facecolor='black', shrink=0.05))\n"
   ]
  },
  {
   "cell_type": "markdown",
   "id": "4045dc8d",
   "metadata": {},
   "source": [
    "# Subplots:"
   ]
  },
  {
   "cell_type": "code",
   "execution_count": null,
   "id": "0bbff0f4",
   "metadata": {},
   "outputs": [],
   "source": [
    "# Create a 2x2 grid of plots\n",
    "fig, axs = plt.subplots(nrows=2, ncols=2)\n",
    "\n",
    "# Select a subplot\n",
    "ax = axs[0, 0]\n",
    "\n",
    "# Plot on the selected subplot\n",
    "ax.plot(x_values, y_values)\n",
    "\n",
    "# Set title and axis labels\n",
    "ax.set_title('Title')\n",
    "ax.set_xlabel('X-axis label')\n",
    "ax.set_ylabel('Y-axis label')\n"
   ]
  },
  {
   "cell_type": "markdown",
   "id": "d20d5afc",
   "metadata": {},
   "source": [
    "# Advanced Plotting:"
   ]
  },
  {
   "cell_type": "code",
   "execution_count": null,
   "id": "aef406ac",
   "metadata": {},
   "outputs": [],
   "source": [
    "# Create a box plot\n",
    "plt.boxplot(data)\n",
    "\n",
    "# Create a violin plot\n",
    "plt.violinplot(data)\n",
    "\n",
    "# Create a heatmap\n",
    "plt.imshow(data, cmap='coolwarm', interpolation='nearest')\n",
    "\n",
    "# Create a 3D plot\n",
    "from mpl_toolkits.mplot3d import Axes3D\n",
    "fig = plt.figure()\n",
    "ax = fig.add_subplot(111, projection='3d')\n",
    "ax.scatter(x_values, y_values, z_values, c='r', marker='o')\n"
   ]
  },
  {
   "cell_type": "markdown",
   "id": "04e738d6",
   "metadata": {},
   "source": [
    "# Working with Axes:"
   ]
  },
  {
   "cell_type": "code",
   "execution_count": null,
   "id": "3d397a40",
   "metadata": {},
   "outputs": [],
   "source": [
    "# Create a new figure and axis\n",
    "fig, ax = plt.subplots()\n",
    "\n",
    "# Set the x and y limits for the axis\n",
    "ax.set_xlim([0, 10])\n",
    "ax.set_ylim([-2, 2])\n",
    "\n",
    "# Set the x and y labels for the axis\n",
    "ax.set_xlabel('X-axis label')\n",
    "ax.set_ylabel('Y-axis label')\n",
    "\n",
    "# Add a grid to the axis\n",
    "ax.grid(True)\n",
    "\n",
    "# Hide the top and right spines of the axis\n",
    "ax.spines['top'].set_visible(False)\n",
    "ax.spines['right'].set_visible(False)\n",
    "\n",
    "# Add ticks and tick labels to the axis\n",
    "ax.set_xticks([1, 2, 3, 4, 5])\n",
    "ax.set_xticklabels(['A', 'B', 'C', 'D', 'E'])\n",
    "ax.set_yticks([-1.5, -1, -0.5, 0, 0.5, 1, 1.5])\n",
    "ax.set_yticklabels(['min', '', '', '0', '', '', 'max'])\n"
   ]
  },
  {
   "cell_type": "markdown",
   "id": "0f9077cf",
   "metadata": {},
   "source": [
    "# Working with Colormaps:"
   ]
  },
  {
   "cell_type": "code",
   "execution_count": null,
   "id": "d2aa0c90",
   "metadata": {},
   "outputs": [],
   "source": [
    "# Create a colormap\n",
    "cmap = plt.cm.coolwarm\n",
    "\n",
    "# Normalize the data to map values to colors\n",
    "norm = plt.Normalize(vmin=min(data), vmax=max(data))\n",
    "\n",
    "# Create a ScalarMappable object\n",
    "mappable = plt.cm.ScalarMappable(norm=norm, cmap=cmap)\n",
    "\n",
    "# Create a colorbar for the data\n",
    "plt.colorbar(mappable, orientation='horizontal', label='Data values')\n"
   ]
  },
  {
   "cell_type": "markdown",
   "id": "01e822da",
   "metadata": {},
   "source": [
    "# Working with Images:"
   ]
  },
  {
   "cell_type": "code",
   "execution_count": null,
   "id": "b1d9d9d0",
   "metadata": {},
   "outputs": [],
   "source": [
    "# Load an image\n",
    "img = plt.imread('image.png')\n",
    "\n",
    "# Create a new figure and axis\n",
    "fig, ax = plt.subplots()\n",
    "\n",
    "# Display the image on the axis\n",
    "ax.imshow(img)\n",
    "\n",
    "# Set the axis aspect ratio to 'equal'\n",
    "ax.set_aspect('equal')\n",
    "\n",
    "# Add a colorbar for the image\n",
    "cbar = ax.figure.colorbar(im, ax=ax, label='Colorbar label')\n"
   ]
  }
 ],
 "metadata": {
  "kernelspec": {
   "display_name": "Python 3 (ipykernel)",
   "language": "python",
   "name": "python3"
  },
  "language_info": {
   "codemirror_mode": {
    "name": "ipython",
    "version": 3
   },
   "file_extension": ".py",
   "mimetype": "text/x-python",
   "name": "python",
   "nbconvert_exporter": "python",
   "pygments_lexer": "ipython3",
   "version": "3.9.13"
  }
 },
 "nbformat": 4,
 "nbformat_minor": 5
}
